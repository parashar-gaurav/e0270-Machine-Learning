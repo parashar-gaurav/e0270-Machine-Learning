{
  "nbformat": 4,
  "nbformat_minor": 0,
  "metadata": {
    "colab": {
      "name": "question3_final.ipynb",
      "provenance": [],
      "collapsed_sections": [],
      "toc_visible": true
    },
    "kernelspec": {
      "name": "python3",
      "display_name": "Python 3"
    }
  },
  "cells": [
    {
      "cell_type": "markdown",
      "metadata": {
        "id": "WPtOV2g8nZJo",
        "colab_type": "text"
      },
      "source": [
        "# Part (a)\n"
      ]
    },
    {
      "cell_type": "code",
      "metadata": {
        "id": "IcFiamY3nkEr",
        "colab_type": "code",
        "colab": {}
      },
      "source": [
        "import numpy as np\n",
        "import matplotlib.pyplot as plt\n",
        "import math"
      ],
      "execution_count": 0,
      "outputs": []
    },
    {
      "cell_type": "code",
      "metadata": {
        "id": "_y3oMIDCnudb",
        "colab_type": "code",
        "colab": {}
      },
      "source": [
        "def sampler():\n",
        "  return np.random.uniform(-1,1)"
      ],
      "execution_count": 0,
      "outputs": []
    },
    {
      "cell_type": "code",
      "metadata": {
        "id": "feUkHvYzoCE2",
        "colab_type": "code",
        "colab": {}
      },
      "source": [
        "n = 100\n",
        "D = []\n",
        "for i in range(n):\n",
        "  x_i = sampler()\n",
        "  D.append((x_i,math.sin(3*x_i)))"
      ],
      "execution_count": 0,
      "outputs": []
    },
    {
      "cell_type": "code",
      "metadata": {
        "id": "DBx3-iAaog7j",
        "colab_type": "code",
        "outputId": "ad09f1cd-a2fe-47a6-c93b-8e9797d64e38",
        "colab": {
          "base_uri": "https://localhost:8080/",
          "height": 313
        }
      },
      "source": [
        "for i in range(n):\n",
        "  plt.plot(D[i][0],D[i][1],'ro')\n",
        "  plt.xlabel('x',fontsize='16')\n",
        "  plt.ylabel('sin(3x)',fontsize='16')\n",
        "  plt.suptitle('plot of data D',fontsize='18')\n",
        "  plt.legend(['data points'])\n",
        "plt.savefig('3a.png')\n",
        "plt.show()\n"
      ],
      "execution_count": 5,
      "outputs": [
        {
          "output_type": "display_data",
          "data": {
            "image/png": "[encoded data removed]",
            "text/plain": [
              "<Figure size 432x288 with 1 Axes>"
            ]
          },
          "metadata": {
            "tags": [],
            "needs_background": "light"
          }
        }
      ]
    },
    {
      "cell_type": "markdown",
      "metadata": {
        "id": "pqdH_wlPtCok",
        "colab_type": "text"
      },
      "source": [
        "## Part (b) [Applying Linear Regression using Ordinary Least Mean Square]\n"
      ]
    },
    {
      "cell_type": "code",
      "metadata": {
        "id": "1I7-6_8ztJzc",
        "colab_type": "code",
        "colab": {}
      },
      "source": [
        "x = []\n",
        "y = []\n",
        "for i in range(n):\n",
        "  x.append(D[i][0])\n",
        "  y.append(D[i][1])\n"
      ],
      "execution_count": 0,
      "outputs": []
    },
    {
      "cell_type": "code",
      "metadata": {
        "id": "qRPGIAdr8QLq",
        "colab_type": "code",
        "outputId": "31cacac1-5cd3-46f7-a25f-099e91cca765",
        "colab": {
          "base_uri": "https://localhost:8080/",
          "height": 34
        }
      },
      "source": [
        "# m is slope and c is the intercept : y = mx + c\n",
        "# m = sum((x_i - x_mean)(y_i - y_mean))/sum((x_i - x_mean)^2)\n",
        "# c = y_mean - m*x_mean\n",
        "\n",
        "x_mean = np.mean(x)\n",
        "y_mean = np.mean(y)\n",
        "num = 0\n",
        "denom = 0\n",
        "#print(x_mean)\n",
        "#print(y_mean)\n",
        "for i in range(n):\n",
        "  num = num + (x[i]-x_mean)*(y[i] - y_mean)\n",
        "  denom = denom + (x[i] - x_mean)**2\n",
        "\n",
        "#learnt line is y = mx+c\n",
        "m = num/denom\n",
        "c = y_mean - m*x_mean\n",
        "\n",
        "#mean square error\n",
        "#sum((f(x_i) - y[i])**2)/n\n",
        "mse = 0\n",
        "for i in range(n):\n",
        "  mse = mse + ((m*x[i]+c - y[i])**2)\n",
        "mse = mse/n\n",
        "print(\"mean squared error is : \",mse)"
      ],
      "execution_count": 9,
      "outputs": [
        {
          "output_type": "stream",
          "text": [
            "mean squared error is :  0.16619557998006695\n"
          ],
          "name": "stdout"
        }
      ]
    },
    {
      "cell_type": "code",
      "metadata": {
        "id": "khIaWILS-Jsj",
        "colab_type": "code",
        "outputId": "321fcde1-91b0-4793-a5c2-c417213d7fb0",
        "colab": {
          "base_uri": "https://localhost:8080/",
          "height": 313
        }
      },
      "source": [
        "#plotting the line and the data points\n",
        "x_0 = -1\n",
        "x_1 = 1\n",
        "y_0 = m*x_0 + c\n",
        "y_1 = m*x_1 + c \n",
        "\n",
        "plt.plot(x,y,'ro',label='data points')\n",
        "plt.plot([x_0,x_1],[y_0,y_1],label='y = mx+c')\n",
        "plt.xlabel('x',fontsize='16')\n",
        "plt.ylabel('y',fontsize='16')\n",
        "plt.legend()\n",
        "plt.suptitle('plot of data D and the regression line',fontsize='18')\n",
        "plt.savefig('3b.jpg')"
      ],
      "execution_count": 12,
      "outputs": [
        {
          "output_type": "display_data",
          "data": {
            "image/png": "[encoded data removed]",
            "text/plain": [
              "<Figure size 432x288 with 1 Axes>"
            ]
          },
          "metadata": {
            "tags": [],
            "needs_background": "light"
          }
        }
      ]
    },
    {
      "cell_type": "markdown",
      "metadata": {
        "id": "769tCEXuFHgU",
        "colab_type": "text"
      },
      "source": [
        "##Part (c) : Using Ordinary least mean square\n"
      ]
    },
    {
      "cell_type": "code",
      "metadata": {
        "id": "UN7q-yhHFRhz",
        "colab_type": "code",
        "colab": {}
      },
      "source": [
        "def phi(x,k):\n",
        "  '''takes parameter x and k, returns list [x^1, x^2, x^3, ..., x^k]'''\n",
        "  phi_x = []\n",
        "  for i in range(1,k+1):\n",
        "    phi_x.append(x**i)\n",
        "  return phi_x"
      ],
      "execution_count": 0,
      "outputs": []
    },
    {
      "cell_type": "code",
      "metadata": {
        "id": "sLV11QJugOFA",
        "colab_type": "code",
        "outputId": "52e8180d-9bc9-4cdd-a3d9-a382db00ef78",
        "colab": {
          "base_uri": "https://localhost:8080/",
          "height": 208
        }
      },
      "source": [
        "for k1 in range(1,11):\n",
        "  for k in range(k1,k1+1):\n",
        "    X = np.empty((0,k+1),dtype=float)\n",
        "    for i in range(n):\n",
        "      #appending a column with entries 1 at the begining\n",
        "      X = np.vstack((X,np.array([1]+phi(x[i],k))))\n",
        "\n",
        "  #now, we want W such that Y = XW + b\n",
        "  #where W = [w1, w2,...,wk].T\n",
        "  #b = [b1,b2,...,bn]\n",
        "  #Y = [y1, y2,...,yn]\n",
        "  # Since we appended a column of all entries 1 to X, we can get rid of b, and W = [b w1 w2 ... wk]\n",
        "  # Y = XW\n",
        "  #W is given by least square approximation = inv((X.TX))X.TY\n",
        "  Y = np.array(y)\n",
        "  XTX = np.matmul(X.T,X)\n",
        "  xTxinv = np.linalg.inv(XTX)\n",
        "  XTY = np.matmul(X.T,Y)\n",
        "  W = np.matmul(xTxinv,XTY)\n",
        "  #print(W.shape)\n",
        "  Y_hat = np.matmul(X,W)\n",
        "  #print(Y_hat[0])\n",
        "  #Y_hat.shape\n",
        "  #print(Y_hat[0])\n",
        "  #print(y[0])\n",
        "\n",
        "\n",
        "  #####################\n",
        "  #plotting for k\n",
        "\n",
        "  #plotting the line and the data points\n",
        "  x_0 = -1\n",
        "  x_1 = 1\n",
        "  y_0 = m*x_0 + c\n",
        "  y_1 = m*x_1 + c \n",
        "\n",
        "  #plt.plot([x_0,x_1],[y_0,y_1],label='y = mx+c')\n",
        "  #we have to plot f(x) = W.T*phi(x) + b\n",
        "  for i in range(n):\n",
        "    plt.plot(x,Y_hat,'ro',color='green',alpha=0.5)\n",
        "  plt.plot(x,y,'ro',label='data points',alpha=0.5)\n",
        "\n",
        "\n",
        "  plt.xlabel('x',fontsize='16')\n",
        "  plt.ylabel('y',fontsize='16')\n",
        "  plt.legend()\n",
        "  plt.suptitle('plot of data D and the regression line',fontsize='18')\n",
        "  plt.savefig('k_' + str(k1) + '.png')\n",
        "  plt.clf()\n",
        "  val = np.sum((Y-Y_hat)**2)/len(Y)\n",
        "  print('mse for k = ',k1,' is ',val)"
      ],
      "execution_count": 67,
      "outputs": [
        {
          "output_type": "stream",
          "text": [
            "mse for k =  1  is  0.16619557998006695\n",
            "mse for k =  2  is  0.16593250145274183\n",
            "mse for k =  3  is  0.0026919722377530663\n",
            "mse for k =  4  is  0.0026866419314772083\n",
            "mse for k =  5  is  8.00757553022462e-06\n",
            "mse for k =  6  is  7.813379288929965e-06\n",
            "mse for k =  7  is  1.013554956475293e-08\n",
            "mse for k =  8  is  9.574353219383107e-09\n",
            "mse for k =  9  is  3.925042358373477e-12\n",
            "mse for k =  10  is  3.653355755097135e-12\n"
          ],
          "name": "stdout"
        },
        {
          "output_type": "display_data",
          "data": {
            "text/plain": [
              "<Figure size 432x288 with 0 Axes>"
            ]
          },
          "metadata": {
            "tags": []
          }
        }
      ]
    },
    {
      "cell_type": "markdown",
      "metadata": {
        "id": "oYT_yDDsbLBg",
        "colab_type": "text"
      },
      "source": [
        "######test cell"
      ]
    },
    {
      "cell_type": "code",
      "metadata": {
        "id": "O4eb37F1iwBW",
        "colab_type": "code",
        "outputId": "6fd5a8c7-6752-4bed-9e69-c41774fbe415",
        "colab": {
          "base_uri": "https://localhost:8080/",
          "height": 313
        }
      },
      "source": [
        "\n",
        "#plotting the line and the data points\n",
        "x_0 = -1\n",
        "x_1 = 1\n",
        "y_0 = m*x_0 + c\n",
        "y_1 = m*x_1 + c \n",
        "\n",
        "plt.plot([x_0,x_1],[y_0,y_1],label='y = mx+c')\n",
        "#we have to plot f(x) = W.T*phi(x) + b\n",
        "for i in range(n):\n",
        "  plt.plot(x,Y_hat,'ro',color='green',alpha=0.7)\n",
        "plt.plot(x,y,'ro',label='data points',alpha=0.7)\n",
        "\n",
        "plt.xlabel('x',fontsize='16')\n",
        "plt.ylabel('y',fontsize='16')\n",
        "plt.legend()\n",
        "plt.suptitle('plot of data D and the regression line',fontsize='18')\n",
        "plt.savefig('k_' + str(i) + '.png')"
      ],
      "execution_count": 64,
      "outputs": [
        {
          "output_type": "display_data",
          "data": {
            "image/png": "[encoded data removed]",
            "text/plain": [
              "<Figure size 432x288 with 1 Axes>"
            ]
          },
          "metadata": {
            "tags": [],
            "needs_background": "light"
          }
        }
      ]
    },
    {
      "cell_type": "code",
      "metadata": {
        "id": "lg0fbA5IplGD",
        "colab_type": "code",
        "colab": {}
      },
      "source": [
        ""
      ],
      "execution_count": 0,
      "outputs": []
    },
    {
      "cell_type": "markdown",
      "metadata": {
        "id": "wmVDjvRq_hRd",
        "colab_type": "text"
      },
      "source": [
        "##Part (d) kernel regression"
      ]
    },
    {
      "cell_type": "code",
      "metadata": {
        "id": "-83HGMF5_kf3",
        "colab_type": "code",
        "colab": {}
      },
      "source": [
        "dx = []\n",
        "dy = []\n",
        "for i in range(n):\n",
        "  dx.append(D[i][0])\n",
        "  dy.append(D[i][1])"
      ],
      "execution_count": 0,
      "outputs": []
    },
    {
      "cell_type": "code",
      "metadata": {
        "id": "AE-uU7skAOkz",
        "colab_type": "code",
        "colab": {}
      },
      "source": [
        "def gaussian_kernel(x1,x2,sigma = 0.05):\n",
        "  result = -1*((x1-x2)**2)/(2*sigma**2)\n",
        "  return np.exp(result)"
      ],
      "execution_count": 0,
      "outputs": []
    },
    {
      "cell_type": "code",
      "metadata": {
        "id": "63QNHS9XP8el",
        "colab_type": "code",
        "colab": {}
      },
      "source": [
        "def polynomial_kernel(x1,x2,b=1,degree=2):\n",
        "  return ((b+x1*x2)**degree)"
      ],
      "execution_count": 0,
      "outputs": []
    },
    {
      "cell_type": "code",
      "metadata": {
        "id": "3fDBivlfP9Cf",
        "colab_type": "code",
        "colab": {}
      },
      "source": [
        ""
      ],
      "execution_count": 0,
      "outputs": []
    },
    {
      "cell_type": "code",
      "metadata": {
        "id": "ldAg1GLvBOge",
        "colab_type": "code",
        "colab": {}
      },
      "source": [
        ""
      ],
      "execution_count": 0,
      "outputs": []
    },
    {
      "cell_type": "markdown",
      "metadata": {
        "id": "5gaarl_sTy0v",
        "colab_type": "text"
      },
      "source": [
        "###testing mse with gaussian kernel , with sigma ranging from 0.001 to 1\n",
        "\n",
        "mse (train = 7.186776580153576e-08 )\n",
        "mse (test =  0.000673851615760893  )"
      ]
    },
    {
      "cell_type": "code",
      "metadata": {
        "id": "Wx-XK8ZvBQ9i",
        "colab_type": "code",
        "outputId": "fd0b3f92-7043-49fd-c0ad-f6a4070cf884",
        "colab": {
          "base_uri": "https://localhost:8080/",
          "height": 1000
        }
      },
      "source": [
        "sig = 0.002\n",
        "mse_old = 1.0\n",
        "while sig < 1.0:\n",
        "  y_pred_train = []\n",
        "  for i in range(n):\n",
        "    ans1 = 0.0\n",
        "    ans2 = 0.0\n",
        "    for j in range(n):\n",
        "      ans1 += gaussian_kernel(dx[i],dx[j],sig)*dy[j]\n",
        "      ans2 += gaussian_kernel(dx[i],dx[j],sig)\n",
        "    y_pred_train.append(ans1/ans2)\n",
        "\n",
        "  mse = 0.0\n",
        "  for i in range(n):\n",
        "    mse = mse + (y_pred_train[i] - dy[i])**2\n",
        "  mse = mse/n\n",
        "  print('mean square error for gaussian kernel and sigma = ',sig,' is ',mse)\n",
        "  if mse < mse_old:\n",
        "    mse_old = mse\n",
        "    sig_opt = sig\n",
        "  sig = sig + 0.01\n",
        "print('best mse is found to be ',mse_old,' at sigma : ',sig_opt)\n",
        "\n",
        "dx_test = []\n",
        "dy_test = []\n",
        "for i in range(n):\n",
        "    dx_test.append(np.random.uniform(-1,1))\n",
        "    dy_test.append(math.sin(3*dx_test[i]))\n",
        "\n",
        "print('running on test data')\n",
        "y_pred_test = []\n",
        "for i in range(n):\n",
        "  ans1 = 0.0\n",
        "  ans2 = 0.0\n",
        "  for j in range(n):\n",
        "    ans1 += gaussian_kernel(dx_test[i],dx[j],sig_opt)*dy[j]\n",
        "    ans2 += gaussian_kernel(dx_test[i],dx[j],sig_opt)\n",
        "  y_pred_test.append(ans1/ans2)\n",
        "\n",
        "mse = 0.0\n",
        "for i in range(n):\n",
        "  mse = mse + (y_pred_test[i] - dy_test[i])**2\n",
        "mse = mse/n\n",
        "print('mean square error for test data and sigma = ',sig_opt,' is ',mse)\n",
        "\n"
      ],
      "execution_count": 85,
      "outputs": [
        {
          "output_type": "stream",
          "text": [
            "mean square error for gaussian kernel and sigma =  0.002  is  4.787818106898422e-07\n",
            "mean square error for gaussian kernel and sigma =  0.012  is  5.553890257438831e-05\n",
            "mean square error for gaussian kernel and sigma =  0.022  is  0.00010353898788523859\n",
            "mean square error for gaussian kernel and sigma =  0.032  is  0.00018551577274431464\n",
            "mean square error for gaussian kernel and sigma =  0.042  is  0.0003259909397033588\n",
            "mean square error for gaussian kernel and sigma =  0.052000000000000005  is  0.0005241310800342682\n",
            "mean square error for gaussian kernel and sigma =  0.062000000000000006  is  0.0008175452752269581\n",
            "mean square error for gaussian kernel and sigma =  0.07200000000000001  is  0.0012475571044637142\n",
            "mean square error for gaussian kernel and sigma =  0.082  is  0.0018365132896185213\n",
            "mean square error for gaussian kernel and sigma =  0.092  is  0.0025879682968355834\n",
            "mean square error for gaussian kernel and sigma =  0.102  is  0.003496373953761224\n",
            "mean square error for gaussian kernel and sigma =  0.11199999999999999  is  0.004556776184452801\n",
            "mean square error for gaussian kernel and sigma =  0.12199999999999998  is  0.005771235257357005\n",
            "mean square error for gaussian kernel and sigma =  0.13199999999999998  is  0.007150775392143515\n",
            "mean square error for gaussian kernel and sigma =  0.142  is  0.008713365441055282\n",
            "mean square error for gaussian kernel and sigma =  0.152  is  0.010479729276798239\n",
            "mean square error for gaussian kernel and sigma =  0.162  is  0.012468928471019698\n",
            "mean square error for gaussian kernel and sigma =  0.17200000000000001  is  0.014695012050817725\n",
            "mean square error for gaussian kernel and sigma =  0.18200000000000002  is  0.01716521459082988\n",
            "mean square error for gaussian kernel and sigma =  0.19200000000000003  is  0.019879588289469\n",
            "mean square error for gaussian kernel and sigma =  0.20200000000000004  is  0.022831668878709337\n",
            "mean square error for gaussian kernel and sigma =  0.21200000000000005  is  0.026009724621779348\n",
            "mean square error for gaussian kernel and sigma =  0.22200000000000006  is  0.029398212505090976\n",
            "mean square error for gaussian kernel and sigma =  0.23200000000000007  is  0.0329791835763088\n",
            "mean square error for gaussian kernel and sigma =  0.24200000000000008  is  0.03673349311411181\n",
            "mean square error for gaussian kernel and sigma =  0.25200000000000006  is  0.04064175944948016\n",
            "mean square error for gaussian kernel and sigma =  0.26200000000000007  is  0.044685072402286315\n",
            "mean square error for gaussian kernel and sigma =  0.2720000000000001  is  0.04884548229556273\n",
            "mean square error for gaussian kernel and sigma =  0.2820000000000001  is  0.053106311188329015\n",
            "mean square error for gaussian kernel and sigma =  0.2920000000000001  is  0.05745232735091078\n",
            "mean square error for gaussian kernel and sigma =  0.3020000000000001  is  0.061869818271439246\n",
            "mean square error for gaussian kernel and sigma =  0.3120000000000001  is  0.06634659044581594\n",
            "mean square error for gaussian kernel and sigma =  0.3220000000000001  is  0.07087191773322693\n",
            "mean square error for gaussian kernel and sigma =  0.33200000000000013  is  0.07543645478263784\n",
            "mean square error for gaussian kernel and sigma =  0.34200000000000014  is  0.08003212796153593\n",
            "mean square error for gaussian kernel and sigma =  0.35200000000000015  is  0.08465201313545516\n",
            "mean square error for gaussian kernel and sigma =  0.36200000000000015  is  0.08929020731996229\n",
            "mean square error for gaussian kernel and sigma =  0.37200000000000016  is  0.0939416994625204\n",
            "mean square error for gaussian kernel and sigma =  0.3820000000000002  is  0.09860224426556201\n",
            "mean square error for gaussian kernel and sigma =  0.3920000000000002  is  0.10326824192700465\n",
            "mean square error for gaussian kernel and sigma =  0.4020000000000002  is  0.10793662586915344\n",
            "mean square error for gaussian kernel and sigma =  0.4120000000000002  is  0.11260475988969434\n",
            "mean square error for gaussian kernel and sigma =  0.4220000000000002  is  0.11727034565362661\n",
            "mean square error for gaussian kernel and sigma =  0.4320000000000002  is  0.12193134102072625\n",
            "mean square error for gaussian kernel and sigma =  0.4420000000000002  is  0.1265858893490754\n",
            "mean square error for gaussian kernel and sigma =  0.45200000000000023  is  0.1312322596194312\n",
            "mean square error for gaussian kernel and sigma =  0.46200000000000024  is  0.13586879698136994\n",
            "mean square error for gaussian kernel and sigma =  0.47200000000000025  is  0.14049388312677352\n",
            "mean square error for gaussian kernel and sigma =  0.48200000000000026  is  0.14510590574685092\n",
            "mean square error for gaussian kernel and sigma =  0.49200000000000027  is  0.1497032362228495\n",
            "mean square error for gaussian kernel and sigma =  0.5020000000000002  is  0.15428421463447253\n",
            "mean square error for gaussian kernel and sigma =  0.5120000000000002  is  0.15884714113953924\n",
            "mean square error for gaussian kernel and sigma =  0.5220000000000002  is  0.1633902727787144\n",
            "mean square error for gaussian kernel and sigma =  0.5320000000000003  is  0.167911824784947\n",
            "mean square error for gaussian kernel and sigma =  0.5420000000000003  is  0.17240997552336704\n",
            "mean square error for gaussian kernel and sigma =  0.5520000000000003  is  0.17688287424876944\n",
            "mean square error for gaussian kernel and sigma =  0.5620000000000003  is  0.18132865093986633\n",
            "mean square error for gaussian kernel and sigma =  0.5720000000000003  is  0.1857454275481737\n",
            "mean square error for gaussian kernel and sigma =  0.5820000000000003  is  0.19013133008122002\n",
            "mean square error for gaussian kernel and sigma =  0.5920000000000003  is  0.19448450102184167\n",
            "mean square error for gaussian kernel and sigma =  0.6020000000000003  is  0.19880311166534792\n",
            "mean square error for gaussian kernel and sigma =  0.6120000000000003  is  0.20308537403246235\n",
            "mean square error for gaussian kernel and sigma =  0.6220000000000003  is  0.20732955208687542\n",
            "mean square error for gaussian kernel and sigma =  0.6320000000000003  is  0.21153397205101887\n",
            "mean square error for gaussian kernel and sigma =  0.6420000000000003  is  0.2156970316717515\n",
            "mean square error for gaussian kernel and sigma =  0.6520000000000004  is  0.21981720833873464\n",
            "mean square error for gaussian kernel and sigma =  0.6620000000000004  is  0.22389306600239067\n",
            "mean square error for gaussian kernel and sigma =  0.6720000000000004  is  0.2279232608756165\n",
            "mean square error for gaussian kernel and sigma =  0.6820000000000004  is  0.2319065459342523\n",
            "mean square error for gaussian kernel and sigma =  0.6920000000000004  is  0.23584177425609135\n",
            "mean square error for gaussian kernel and sigma =  0.7020000000000004  is  0.23972790125751492\n",
            "mean square error for gaussian kernel and sigma =  0.7120000000000004  is  0.24356398590122083\n",
            "mean square error for gaussian kernel and sigma =  0.7220000000000004  is  0.24734919095856028\n",
            "mean square error for gaussian kernel and sigma =  0.7320000000000004  is  0.25108278241633203\n",
            "mean square error for gaussian kernel and sigma =  0.7420000000000004  is  0.2547641281210401\n",
            "mean square error for gaussian kernel and sigma =  0.7520000000000004  is  0.2583926957541852\n",
            "mean square error for gaussian kernel and sigma =  0.7620000000000005  is  0.26196805023058334\n",
            "mean square error for gaussian kernel and sigma =  0.7720000000000005  is  0.2654898506084898\n",
            "mean square error for gaussian kernel and sigma =  0.7820000000000005  is  0.26895784659581373\n",
            "mean square error for gaussian kernel and sigma =  0.7920000000000005  is  0.2723718747313131\n",
            "mean square error for gaussian kernel and sigma =  0.8020000000000005  is  0.27573185431364927\n",
            "mean square error for gaussian kernel and sigma =  0.8120000000000005  is  0.27903778314482053\n",
            "mean square error for gaussian kernel and sigma =  0.8220000000000005  is  0.28228973314798694\n",
            "mean square error for gaussian kernel and sigma =  0.8320000000000005  is  0.2854878459131972\n",
            "mean square error for gaussian kernel and sigma =  0.8420000000000005  is  0.288632328218207\n",
            "mean square error for gaussian kernel and sigma =  0.8520000000000005  is  0.291723447565492\n",
            "mean square error for gaussian kernel and sigma =  0.8620000000000005  is  0.2947615277708029\n",
            "mean square error for gaussian kernel and sigma =  0.8720000000000006  is  0.2977469446332508\n",
            "mean square error for gaussian kernel and sigma =  0.8820000000000006  is  0.30068012171194053\n",
            "mean square error for gaussian kernel and sigma =  0.8920000000000006  is  0.30356152622964544\n",
            "mean square error for gaussian kernel and sigma =  0.9020000000000006  is  0.3063916651199113\n",
            "mean square error for gaussian kernel and sigma =  0.9120000000000006  is  0.30917108123030657\n",
            "mean square error for gaussian kernel and sigma =  0.9220000000000006  is  0.3119003496912674\n",
            "mean square error for gaussian kernel and sigma =  0.9320000000000006  is  0.3145800744571074\n",
            "mean square error for gaussian kernel and sigma =  0.9420000000000006  is  0.3172108850232593\n",
            "mean square error for gaussian kernel and sigma =  0.9520000000000006  is  0.3197934333216512\n",
            "mean square error for gaussian kernel and sigma =  0.9620000000000006  is  0.32232839079425424\n",
            "mean square error for gaussian kernel and sigma =  0.9720000000000006  is  0.32481644564328965\n",
            "mean square error for gaussian kernel and sigma =  0.9820000000000007  is  0.3272583002552647\n",
            "mean square error for gaussian kernel and sigma =  0.9920000000000007  is  0.32965466879492994\n",
            "best mse is found to be  4.787818106898422e-07  at sigma :  0.002\n",
            "running on test data\n",
            "mean square error for test data and sigma =  0.002  is  0.0003416285325987062\n"
          ],
          "name": "stdout"
        }
      ]
    },
    {
      "cell_type": "markdown",
      "metadata": {
        "id": "hHG44fFVFc8p",
        "colab_type": "text"
      },
      "source": [
        "###plot to show that it needs regularization"
      ]
    },
    {
      "cell_type": "code",
      "metadata": {
        "id": "9LPIkgM2Cc_F",
        "colab_type": "code",
        "outputId": "093819f4-ebd0-407b-8025-027696faed11",
        "colab": {
          "base_uri": "https://localhost:8080/",
          "height": 279
        }
      },
      "source": [
        "x_tst = np.linspace(-1,1,1000)\n",
        "y_tst = []\n",
        "for i in range(1000):\n",
        "  ans1 = 0.0\n",
        "  ans2 = 0.0\n",
        "  for j in range(n):\n",
        "    ans1 += gaussian_kernel(dx[j],x_tst[i],sig_opt)*dy[j]\n",
        "    ans2 += gaussian_kernel(dx[j],x_tst[i],sig_opt)\n",
        "  y_tst.append(ans1/ans2)\n",
        "\n",
        "\n",
        "for i in range(n):\n",
        "  plt.scatter(dx,dy,color = 'red')\n",
        "  plt.plot(x_tst,y_tst,color='green')\n",
        "plt.legend(['learned function'])\n",
        "plt.xlabel('x value')\n",
        "plt.ylabel('y value')\n",
        "plt.savefig('3d.png')"
      ],
      "execution_count": 87,
      "outputs": [
        {
          "output_type": "display_data",
          "data": {
            "image/png": "[encoded data removed]",
            "text/plain": [
              "<Figure size 432x288 with 1 Axes>"
            ]
          },
          "metadata": {
            "tags": [],
            "needs_background": "light"
          }
        }
      ]
    },
    {
      "cell_type": "code",
      "metadata": {
        "id": "emSW4L4QCd5q",
        "colab_type": "code",
        "colab": {}
      },
      "source": [
        ""
      ],
      "execution_count": 0,
      "outputs": []
    }
  ]
}