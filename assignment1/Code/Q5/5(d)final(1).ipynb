{
  "nbformat": 4,
  "nbformat_minor": 0,
  "metadata": {
    "colab": {
      "name": "5(d)final",
      "provenance": [],
      "collapsed_sections": [],
      "toc_visible": true
    },
    "kernelspec": {
      "name": "python3",
      "display_name": "Python 3"
    }
  },
  "cells": [
    {
      "cell_type": "code",
      "metadata": {
        "id": "jRFw4Vndvk3i",
        "colab_type": "code",
        "colab": {}
      },
      "source": [
        "import numpy as np\n",
        "import matplotlib.pyplot as plt\n",
        "#np.random.seed(0)"
      ],
      "execution_count": 0,
      "outputs": []
    },
    {
      "cell_type": "markdown",
      "metadata": {
        "id": "__Cte5fuws5l",
        "colab_type": "text"
      },
      "source": [
        "##Sampling data"
      ]
    },
    {
      "cell_type": "code",
      "metadata": {
        "id": "rFVFLFOKvwRI",
        "colab_type": "code",
        "colab": {}
      },
      "source": [
        "c1 = []\n",
        "c2 = []\n",
        "n = 100\n",
        "for i in range(n):\n",
        "  c1.append(np.random.uniform(-1,1))\n",
        "  turn = np.random.choice((0,1))\n",
        "  if turn == 0:\n",
        "    c2.append(np.random.uniform(-3,-2))\n",
        "  else:\n",
        "    c2.append(np.random.uniform(2,3)) "
      ],
      "execution_count": 0,
      "outputs": []
    },
    {
      "cell_type": "markdown",
      "metadata": {
        "id": "6HTVL1Btwv6h",
        "colab_type": "text"
      },
      "source": [
        "##calculating alphas\n",
        "\n",
        "$$\\alpha_i = N^{-1}(M_2 - M_1)$$\n",
        "\n",
        "$$N\\ can\\ be\\ singular\\ use\\ N_\\epsilon = N + \\epsilon I$$\n",
        "\n",
        "$$N = K_1(I-1_{l_1})K_1^T + K_2(I-1_{l_2})K_2^T$$\n",
        "\n",
        "$$1^{st}\\ I\\  is\\ l_1*l_1\\ 2^{nd}\\ I\\ is\\ l_2*l_2$$\n",
        "\n",
        "$$K_1[n][m]= k(x_n,x_m^1);\\ l*l_1\\ matrix$$\n",
        "\n",
        "$$K_2[n][m]= k(x_n,x_m^2);\\ l*l_2\\ matrix$$ \n",
        "\n",
        "$$M_1\\ is\\ l*1;\\ M_1[j]=\\frac{1}{l_1}\\sum_{k=1}^{l_1}k(x_j,x_k^1)$$\n",
        "\n",
        "$$M_2\\ is\\ l*1;\\ M_2[j]=\\frac{1}{l_2}\\sum_{k=1}^{l_2}k(x_j,x_k^2)$$\n"
      ]
    },
    {
      "cell_type": "code",
      "metadata": {
        "id": "haAx8Idwwmmz",
        "colab_type": "code",
        "colab": {}
      },
      "source": [
        "x = c1+c2"
      ],
      "execution_count": 0,
      "outputs": []
    },
    {
      "cell_type": "code",
      "metadata": {
        "id": "yjN1cMtWzaqL",
        "colab_type": "code",
        "outputId": "45b7b51a-d1db-4b50-f1fb-79c12b81a81a",
        "colab": {
          "base_uri": "https://localhost:8080/",
          "height": 34
        }
      },
      "source": [
        "len(x)"
      ],
      "execution_count": 379,
      "outputs": [
        {
          "output_type": "execute_result",
          "data": {
            "text/plain": [
              "200"
            ]
          },
          "metadata": {
            "tags": []
          },
          "execution_count": 379
        }
      ]
    },
    {
      "cell_type": "code",
      "metadata": {
        "id": "GxpbDEFgzbkn",
        "colab_type": "code",
        "colab": {}
      },
      "source": [
        "def gaussian_kernel(x1,x2,sigma=1):\n",
        "  answer = -0.5*((x1-x2)**2)\n",
        "  return float(np.exp(answer/(sigma**2)))"
      ],
      "execution_count": 0,
      "outputs": []
    },
    {
      "cell_type": "code",
      "metadata": {
        "id": "YhysSBx-sPBO",
        "colab_type": "code",
        "colab": {}
      },
      "source": [
        "def polynomial_kernel(x1,x2,d=2,b=1):\n",
        "  return((b+x1*x2)**d)"
      ],
      "execution_count": 0,
      "outputs": []
    },
    {
      "cell_type": "markdown",
      "metadata": {
        "id": "aT_J-ahz0Uwt",
        "colab_type": "text"
      },
      "source": [
        "###calculating M1 and M2"
      ]
    },
    {
      "cell_type": "code",
      "metadata": {
        "id": "jruo_wgsz2OI",
        "colab_type": "code",
        "colab": {}
      },
      "source": [
        "M1 = np.zeros((200,1))\n",
        "M2 = np.zeros((200,1))\n",
        "\n",
        "for i in range(200):\n",
        "  sum1 = 0.0\n",
        "  for j in range(100):\n",
        "    sum1 = sum1 + gaussian_kernel(x[i],c1[j])\n",
        "  sum1 = sum1/100\n",
        "  M1[i][0] = sum1\n",
        "\n",
        "\n",
        "for i in range(200):\n",
        "  sum2 = 0.0\n",
        "  for j in range(100):\n",
        "    sum2 = sum2 + gaussian_kernel(x[i],c2[j])\n",
        "  sum2 = sum2/100\n",
        "  M2[i][0] = sum2"
      ],
      "execution_count": 0,
      "outputs": []
    },
    {
      "cell_type": "markdown",
      "metadata": {
        "id": "cfLHokjL1-Jf",
        "colab_type": "text"
      },
      "source": [
        "###Calculating K1, K2, I1, I2, onel1, onel2"
      ]
    },
    {
      "cell_type": "code",
      "metadata": {
        "id": "qHm0Gyqdz4aN",
        "colab_type": "code",
        "colab": {}
      },
      "source": [
        "K1 = np.zeros((200,100))\n",
        "K2 = np.zeros((200,100))\n",
        "\n",
        "for i in range(200):\n",
        "  for j in range(100):\n",
        "    K1[i][j] = gaussian_kernel(x[i],c1[j])\n",
        "    K2[i][j] = gaussian_kernel(x[i],c2[j])\n",
        "\n",
        "I1 = np.eye(100)\n",
        "I2 = np.eye(100)\n",
        "\n",
        "onel1 = np.ones((100,100))/n\n",
        "onel2 = np.ones((100,100))/n\n"
      ],
      "execution_count": 0,
      "outputs": []
    },
    {
      "cell_type": "code",
      "metadata": {
        "id": "WO1Gxf8L1Z04",
        "colab_type": "code",
        "outputId": "fe2b8cdd-4056-49b9-ed75-084131a9ea49",
        "colab": {
          "base_uri": "https://localhost:8080/",
          "height": 139
        }
      },
      "source": [
        "onel1"
      ],
      "execution_count": 384,
      "outputs": [
        {
          "output_type": "execute_result",
          "data": {
            "text/plain": [
              "array([[0.01, 0.01, 0.01, ..., 0.01, 0.01, 0.01],\n",
              "       [0.01, 0.01, 0.01, ..., 0.01, 0.01, 0.01],\n",
              "       [0.01, 0.01, 0.01, ..., 0.01, 0.01, 0.01],\n",
              "       ...,\n",
              "       [0.01, 0.01, 0.01, ..., 0.01, 0.01, 0.01],\n",
              "       [0.01, 0.01, 0.01, ..., 0.01, 0.01, 0.01],\n",
              "       [0.01, 0.01, 0.01, ..., 0.01, 0.01, 0.01]])"
            ]
          },
          "metadata": {
            "tags": []
          },
          "execution_count": 384
        }
      ]
    },
    {
      "cell_type": "markdown",
      "metadata": {
        "id": "5tRLAi8j38ZC",
        "colab_type": "text"
      },
      "source": [
        "###Calculating N : $$N = K_1(I-1_{l_1})K_1^T + K_2(I-1_{l_2})K_2^T$$ "
      ]
    },
    {
      "cell_type": "code",
      "metadata": {
        "id": "J70jvDyz2xO3",
        "colab_type": "code",
        "colab": {}
      },
      "source": [
        "term1 = np.matmul(K1,(I1-onel1))\n",
        "term2 = np.matmul(term1,K1.T)\n",
        "term3 = np.matmul(K2,(I2-onel2))\n",
        "term4 = np.matmul(term3,K2.T)\n",
        "\n",
        "N = term2+term4\n"
      ],
      "execution_count": 0,
      "outputs": []
    },
    {
      "cell_type": "markdown",
      "metadata": {
        "id": "zGbgml9n5Ijw",
        "colab_type": "text"
      },
      "source": [
        "### making $$N_\\epsilon = N +\\epsilon I$$ "
      ]
    },
    {
      "cell_type": "code",
      "metadata": {
        "id": "85EpLGir4aCT",
        "colab_type": "code",
        "colab": {}
      },
      "source": [
        "epsilon = 0.001\n",
        "N = N + epsilon*np.eye(200,200)"
      ],
      "execution_count": 0,
      "outputs": []
    },
    {
      "cell_type": "code",
      "metadata": {
        "id": "17BXbujh4uCc",
        "colab_type": "code",
        "colab": {}
      },
      "source": [
        "term5 = np.linalg.inv(N)\n",
        "alphas = np.matmul(term5,(M2-M1))"
      ],
      "execution_count": 0,
      "outputs": []
    },
    {
      "cell_type": "code",
      "metadata": {
        "id": "kBDihkTy5fPR",
        "colab_type": "code",
        "outputId": "39d915cf-4871-4b7a-b328-0df30a228f60",
        "colab": {
          "base_uri": "https://localhost:8080/",
          "height": 325
        }
      },
      "source": [
        "plt.scatter(x,alphas,color = 'red')\n",
        "plt.xlabel('x')\n",
        "plt.ylabel('alpha')\n",
        "plt.suptitle('alpha value at gaussian kernel sigma = 100, misclassification = 0')\n",
        "#plt.savefig('5d9.png')"
      ],
      "execution_count": 388,
      "outputs": [
        {
          "output_type": "execute_result",
          "data": {
            "text/plain": [
              "Text(0.5, 0.98, 'alpha value at gaussian kernel sigma = 100, misclassification = 0')"
            ]
          },
          "metadata": {
            "tags": []
          },
          "execution_count": 388
        },
        {
          "output_type": "display_data",
          "data": {
            "image/png": "[encoded data removed]",
            "text/plain": [
              "<Figure size 432x288 with 1 Axes>"
            ]
          },
          "metadata": {
            "tags": [],
            "needs_background": "light"
          }
        }
      ]
    },
    {
      "cell_type": "markdown",
      "metadata": {
        "id": "3g1MI3It4A_X",
        "colab_type": "text"
      },
      "source": [
        "###Calculating y for each x given by : \n",
        "$$y(x) = \\sum_{i=1}^{l}k(x_i,x)$$\n"
      ]
    },
    {
      "cell_type": "code",
      "metadata": {
        "id": "_J2nO1T16M6Z",
        "colab_type": "code",
        "colab": {}
      },
      "source": [
        "y = []\n",
        "for i in range(len(x)):\n",
        "  temp_sum = 0.0\n",
        "  for j in range(len(x)):\n",
        "    temp_sum = temp_sum+gaussian_kernel(x[j],x[i])\n",
        "  y.append(temp_sum)"
      ],
      "execution_count": 0,
      "outputs": []
    },
    {
      "cell_type": "code",
      "metadata": {
        "id": "B9i7H0de41xf",
        "colab_type": "code",
        "colab": {}
      },
      "source": [
        "mean_y = sum(y)/len(y)"
      ],
      "execution_count": 0,
      "outputs": []
    },
    {
      "cell_type": "code",
      "metadata": {
        "id": "ORnDWCgP42gm",
        "colab_type": "code",
        "colab": {}
      },
      "source": [
        "y_pred = []\n",
        "for i in range(200):\n",
        "  if(y[i]<=mean_y):\n",
        "    y_pred.append(-1.0)\n",
        "  else:\n",
        "    y_pred.append(1.0)"
      ],
      "execution_count": 0,
      "outputs": []
    },
    {
      "cell_type": "code",
      "metadata": {
        "id": "MLf1h-RV5ssZ",
        "colab_type": "code",
        "colab": {}
      },
      "source": [
        "y_true = [1.0]*100 + [-1.0]*100"
      ],
      "execution_count": 0,
      "outputs": []
    },
    {
      "cell_type": "code",
      "metadata": {
        "id": "LhVF63zD5t0l",
        "colab_type": "code",
        "colab": {
          "base_uri": "https://localhost:8080/",
          "height": 34
        },
        "outputId": "6ba88bbb-1d2b-48ba-acff-34b948e98ea3"
      },
      "source": [
        "total_misclassified = 0\n",
        "for i in range(100):\n",
        "  if y_pred[i]==-1.0:\n",
        "    total_misclassified = total_misclassified+1\n",
        "for i in range(100,200):\n",
        "  if y_pred[i]==1.0:\n",
        "    total_misclassified = total_misclassified+1\n",
        "  \n",
        "print(total_misclassified)"
      ],
      "execution_count": 393,
      "outputs": [
        {
          "output_type": "stream",
          "text": [
            "0\n"
          ],
          "name": "stdout"
        }
      ]
    },
    {
      "cell_type": "code",
      "metadata": {
        "id": "f4pH-8q56FpL",
        "colab_type": "code",
        "colab": {
          "base_uri": "https://localhost:8080/",
          "height": 1000
        },
        "outputId": "8764d66d-da1e-4570-a998-c60b0aeaac6b"
      },
      "source": [
        "#y_pred"
      ],
      "execution_count": 394,
      "outputs": [
        {
          "output_type": "execute_result",
          "data": {
            "text/plain": [
              "[1.0,\n",
              " 1.0,\n",
              " 1.0,\n",
              " 1.0,\n",
              " 1.0,\n",
              " 1.0,\n",
              " 1.0,\n",
              " 1.0,\n",
              " 1.0,\n",
              " 1.0,\n",
              " 1.0,\n",
              " 1.0,\n",
              " 1.0,\n",
              " 1.0,\n",
              " 1.0,\n",
              " 1.0,\n",
              " 1.0,\n",
              " 1.0,\n",
              " 1.0,\n",
              " 1.0,\n",
              " 1.0,\n",
              " 1.0,\n",
              " 1.0,\n",
              " 1.0,\n",
              " 1.0,\n",
              " 1.0,\n",
              " 1.0,\n",
              " 1.0,\n",
              " 1.0,\n",
              " 1.0,\n",
              " 1.0,\n",
              " 1.0,\n",
              " 1.0,\n",
              " 1.0,\n",
              " 1.0,\n",
              " 1.0,\n",
              " 1.0,\n",
              " 1.0,\n",
              " 1.0,\n",
              " 1.0,\n",
              " 1.0,\n",
              " 1.0,\n",
              " 1.0,\n",
              " 1.0,\n",
              " 1.0,\n",
              " 1.0,\n",
              " 1.0,\n",
              " 1.0,\n",
              " 1.0,\n",
              " 1.0,\n",
              " 1.0,\n",
              " 1.0,\n",
              " 1.0,\n",
              " 1.0,\n",
              " 1.0,\n",
              " 1.0,\n",
              " 1.0,\n",
              " 1.0,\n",
              " 1.0,\n",
              " 1.0,\n",
              " 1.0,\n",
              " 1.0,\n",
              " 1.0,\n",
              " 1.0,\n",
              " 1.0,\n",
              " 1.0,\n",
              " 1.0,\n",
              " 1.0,\n",
              " 1.0,\n",
              " 1.0,\n",
              " 1.0,\n",
              " 1.0,\n",
              " 1.0,\n",
              " 1.0,\n",
              " 1.0,\n",
              " 1.0,\n",
              " 1.0,\n",
              " 1.0,\n",
              " 1.0,\n",
              " 1.0,\n",
              " 1.0,\n",
              " 1.0,\n",
              " 1.0,\n",
              " 1.0,\n",
              " 1.0,\n",
              " 1.0,\n",
              " 1.0,\n",
              " 1.0,\n",
              " 1.0,\n",
              " 1.0,\n",
              " 1.0,\n",
              " 1.0,\n",
              " 1.0,\n",
              " 1.0,\n",
              " 1.0,\n",
              " 1.0,\n",
              " 1.0,\n",
              " 1.0,\n",
              " 1.0,\n",
              " 1.0,\n",
              " -1.0,\n",
              " -1.0,\n",
              " -1.0,\n",
              " -1.0,\n",
              " -1.0,\n",
              " -1.0,\n",
              " -1.0,\n",
              " -1.0,\n",
              " -1.0,\n",
              " -1.0,\n",
              " -1.0,\n",
              " -1.0,\n",
              " -1.0,\n",
              " -1.0,\n",
              " -1.0,\n",
              " -1.0,\n",
              " -1.0,\n",
              " -1.0,\n",
              " -1.0,\n",
              " -1.0,\n",
              " -1.0,\n",
              " -1.0,\n",
              " -1.0,\n",
              " -1.0,\n",
              " -1.0,\n",
              " -1.0,\n",
              " -1.0,\n",
              " -1.0,\n",
              " -1.0,\n",
              " -1.0,\n",
              " -1.0,\n",
              " -1.0,\n",
              " -1.0,\n",
              " -1.0,\n",
              " -1.0,\n",
              " -1.0,\n",
              " -1.0,\n",
              " -1.0,\n",
              " -1.0,\n",
              " -1.0,\n",
              " -1.0,\n",
              " -1.0,\n",
              " -1.0,\n",
              " -1.0,\n",
              " -1.0,\n",
              " -1.0,\n",
              " -1.0,\n",
              " -1.0,\n",
              " -1.0,\n",
              " -1.0,\n",
              " -1.0,\n",
              " -1.0,\n",
              " -1.0,\n",
              " -1.0,\n",
              " -1.0,\n",
              " -1.0,\n",
              " -1.0,\n",
              " -1.0,\n",
              " -1.0,\n",
              " -1.0,\n",
              " -1.0,\n",
              " -1.0,\n",
              " -1.0,\n",
              " -1.0,\n",
              " -1.0,\n",
              " -1.0,\n",
              " -1.0,\n",
              " -1.0,\n",
              " -1.0,\n",
              " -1.0,\n",
              " -1.0,\n",
              " -1.0,\n",
              " -1.0,\n",
              " -1.0,\n",
              " -1.0,\n",
              " -1.0,\n",
              " -1.0,\n",
              " -1.0,\n",
              " -1.0,\n",
              " -1.0,\n",
              " -1.0,\n",
              " -1.0,\n",
              " -1.0,\n",
              " -1.0,\n",
              " -1.0,\n",
              " -1.0,\n",
              " -1.0,\n",
              " -1.0,\n",
              " -1.0,\n",
              " -1.0,\n",
              " -1.0,\n",
              " -1.0,\n",
              " -1.0,\n",
              " -1.0,\n",
              " -1.0,\n",
              " -1.0,\n",
              " -1.0,\n",
              " -1.0,\n",
              " -1.0,\n",
              " -1.0]"
            ]
          },
          "metadata": {
            "tags": []
          },
          "execution_count": 394
        }
      ]
    },
    {
      "cell_type": "code",
      "metadata": {
        "id": "ReObslya7miH",
        "colab_type": "code",
        "colab": {
          "base_uri": "https://localhost:8080/",
          "height": 34
        },
        "outputId": "a6b4bb07-f02c-409c-bab4-e97ae7aae7c9"
      },
      "source": [
        "mean_y"
      ],
      "execution_count": 395,
      "outputs": [
        {
          "output_type": "execute_result",
          "data": {
            "text/plain": [
              "70.29838223007266"
            ]
          },
          "metadata": {
            "tags": []
          },
          "execution_count": 395
        }
      ]
    },
    {
      "cell_type": "code",
      "metadata": {
        "id": "S3zaPgdP7tca",
        "colab_type": "code",
        "colab": {
          "base_uri": "https://localhost:8080/",
          "height": 34
        },
        "outputId": "20b618f4-c46e-43b5-8e1d-b85df88bc933"
      },
      "source": [
        "min(y)"
      ],
      "execution_count": 396,
      "outputs": [
        {
          "output_type": "execute_result",
          "data": {
            "text/plain": [
              "46.11870737756886"
            ]
          },
          "metadata": {
            "tags": []
          },
          "execution_count": 396
        }
      ]
    },
    {
      "cell_type": "code",
      "metadata": {
        "id": "tCLjV91m8osN",
        "colab_type": "code",
        "colab": {
          "base_uri": "https://localhost:8080/",
          "height": 34
        },
        "outputId": "6bc4e4f0-f084-4712-e566-617ed8b58e74"
      },
      "source": [
        "max(y)"
      ],
      "execution_count": 397,
      "outputs": [
        {
          "output_type": "execute_result",
          "data": {
            "text/plain": [
              "91.67676189931193"
            ]
          },
          "metadata": {
            "tags": []
          },
          "execution_count": 397
        }
      ]
    },
    {
      "cell_type": "code",
      "metadata": {
        "id": "I12ar45cByGd",
        "colab_type": "code",
        "colab": {
          "base_uri": "https://localhost:8080/",
          "height": 325
        },
        "outputId": "af688b3f-f453-497e-d4fa-7078c9c15a4d"
      },
      "source": [
        "for i in range(100):\n",
        "  \n",
        "  plt.scatter(y[i],y=0,color='red',alpha=0.5)\n",
        "  plt.scatter(y[i+100],y=0,color='green',alpha=0.5)\n",
        "plt.scatter(mean_y,y=0,color='black',alpha=1.0,label='theeta(threshold)')\n",
        "plt.xlabel('projected values')\n",
        "plt.legend()\n",
        "plt.suptitle('Projected values of the points,gaussian kernel sigma = 100, misclassification = 0')\n",
        "#plt.savefig('5d10.png')"
      ],
      "execution_count": 398,
      "outputs": [
        {
          "output_type": "execute_result",
          "data": {
            "text/plain": [
              "Text(0.5, 0.98, 'Projected values of the points,gaussian kernel sigma = 100, misclassification = 0')"
            ]
          },
          "metadata": {
            "tags": []
          },
          "execution_count": 398
        },
        {
          "output_type": "display_data",
          "data": {
            "image/png": "[encoded data removed]",
            "text/plain": [
              "<Figure size 432x288 with 1 Axes>"
            ]
          },
          "metadata": {
            "tags": [],
            "needs_background": "light"
          }
        }
      ]
    },
    {
      "cell_type": "code",
      "metadata": {
        "id": "ZLOnodOrDYCQ",
        "colab_type": "code",
        "colab": {
          "base_uri": "https://localhost:8080/",
          "height": 34
        },
        "outputId": "2f7a6427-5bcd-4b6e-cd4c-63f05f8f8a51"
      },
      "source": [
        "max(y)"
      ],
      "execution_count": 399,
      "outputs": [
        {
          "output_type": "execute_result",
          "data": {
            "text/plain": [
              "91.67676189931193"
            ]
          },
          "metadata": {
            "tags": []
          },
          "execution_count": 399
        }
      ]
    },
    {
      "cell_type": "code",
      "metadata": {
        "id": "jgd3b5fnH7-I",
        "colab_type": "code",
        "colab": {
          "base_uri": "https://localhost:8080/",
          "height": 34
        },
        "outputId": "28f6ff1a-bbbd-4cc8-d307-0a1782032a44"
      },
      "source": [
        "min(y)"
      ],
      "execution_count": 400,
      "outputs": [
        {
          "output_type": "execute_result",
          "data": {
            "text/plain": [
              "46.11870737756886"
            ]
          },
          "metadata": {
            "tags": []
          },
          "execution_count": 400
        }
      ]
    },
    {
      "cell_type": "code",
      "metadata": {
        "id": "T36Am-dBIE1s",
        "colab_type": "code",
        "colab": {
          "base_uri": "https://localhost:8080/",
          "height": 1000
        },
        "outputId": "72774485-a6d5-4d64-8a7f-e4937c69f458"
      },
      "source": [
        "#M1"
      ],
      "execution_count": 401,
      "outputs": [
        {
          "output_type": "execute_result",
          "data": {
            "text/plain": [
              "array([[0.77827163],\n",
              "       [0.79084172],\n",
              "       [0.86715252],\n",
              "       [0.81761741],\n",
              "       [0.73851577],\n",
              "       [0.6503653 ],\n",
              "       [0.8497137 ],\n",
              "       [0.82345437],\n",
              "       [0.78279561],\n",
              "       [0.69010875],\n",
              "       [0.74572399],\n",
              "       [0.86434824],\n",
              "       [0.86606636],\n",
              "       [0.85042698],\n",
              "       [0.64473849],\n",
              "       [0.64448174],\n",
              "       [0.71956634],\n",
              "       [0.85577977],\n",
              "       [0.85994868],\n",
              "       [0.82999674],\n",
              "       [0.84603794],\n",
              "       [0.70756343],\n",
              "       [0.84784565],\n",
              "       [0.68865472],\n",
              "       [0.77432597],\n",
              "       [0.86633879],\n",
              "       [0.84835507],\n",
              "       [0.78935579],\n",
              "       [0.82669556],\n",
              "       [0.84892393],\n",
              "       [0.61349196],\n",
              "       [0.73012458],\n",
              "       [0.85832231],\n",
              "       [0.84766864],\n",
              "       [0.76224378],\n",
              "       [0.65960827],\n",
              "       [0.86830933],\n",
              "       [0.69216919],\n",
              "       [0.86748983],\n",
              "       [0.86133437],\n",
              "       [0.7548259 ],\n",
              "       [0.74945993],\n",
              "       [0.8282176 ],\n",
              "       [0.66691439],\n",
              "       [0.86301129],\n",
              "       [0.76767427],\n",
              "       [0.67919676],\n",
              "       [0.83936412],\n",
              "       [0.61943439],\n",
              "       [0.85990031],\n",
              "       [0.85839923],\n",
              "       [0.59844937],\n",
              "       [0.69059943],\n",
              "       [0.80812259],\n",
              "       [0.82688456],\n",
              "       [0.86749683],\n",
              "       [0.75708745],\n",
              "       [0.79134808],\n",
              "       [0.85518048],\n",
              "       [0.78018777],\n",
              "       [0.86821236],\n",
              "       [0.66930205],\n",
              "       [0.75996871],\n",
              "       [0.8153489 ],\n",
              "       [0.73995878],\n",
              "       [0.69663227],\n",
              "       [0.79657006],\n",
              "       [0.59962286],\n",
              "       [0.66342468],\n",
              "       [0.81871478],\n",
              "       [0.71304068],\n",
              "       [0.86770816],\n",
              "       [0.6536782 ],\n",
              "       [0.86462252],\n",
              "       [0.86272407],\n",
              "       [0.83147829],\n",
              "       [0.80235157],\n",
              "       [0.82801241],\n",
              "       [0.64986493],\n",
              "       [0.77431478],\n",
              "       [0.85518762],\n",
              "       [0.64708672],\n",
              "       [0.8655485 ],\n",
              "       [0.66585739],\n",
              "       [0.85905365],\n",
              "       [0.81523496],\n",
              "       [0.78214584],\n",
              "       [0.86791656],\n",
              "       [0.84680937],\n",
              "       [0.66288637],\n",
              "       [0.76370888],\n",
              "       [0.66814589],\n",
              "       [0.86869531],\n",
              "       [0.85457215],\n",
              "       [0.72191208],\n",
              "       [0.76868886],\n",
              "       [0.86643204],\n",
              "       [0.86160487],\n",
              "       [0.80856382],\n",
              "       [0.85924635],\n",
              "       [0.06119238],\n",
              "       [0.04287345],\n",
              "       [0.04157659],\n",
              "       [0.09826842],\n",
              "       [0.03285909],\n",
              "       [0.06536377],\n",
              "       [0.05320842],\n",
              "       [0.06840889],\n",
              "       [0.04189095],\n",
              "       [0.09264352],\n",
              "       [0.06564964],\n",
              "       [0.06471168],\n",
              "       [0.04287764],\n",
              "       [0.04665283],\n",
              "       [0.04556336],\n",
              "       [0.1867895 ],\n",
              "       [0.13141248],\n",
              "       [0.08580545],\n",
              "       [0.06112248],\n",
              "       [0.11175184],\n",
              "       [0.15956483],\n",
              "       [0.1485735 ],\n",
              "       [0.05508746],\n",
              "       [0.12142399],\n",
              "       [0.02961353],\n",
              "       [0.0769646 ],\n",
              "       [0.06900616],\n",
              "       [0.07400274],\n",
              "       [0.08629122],\n",
              "       [0.04036148],\n",
              "       [0.14810473],\n",
              "       [0.06471869],\n",
              "       [0.0333393 ],\n",
              "       [0.06979955],\n",
              "       [0.06796649],\n",
              "       [0.05988059],\n",
              "       [0.07130638],\n",
              "       [0.07570162],\n",
              "       [0.09223169],\n",
              "       [0.10722219],\n",
              "       [0.14325106],\n",
              "       [0.15610586],\n",
              "       [0.03401668],\n",
              "       [0.18509584],\n",
              "       [0.12149663],\n",
              "       [0.040331  ],\n",
              "       [0.0554585 ],\n",
              "       [0.02944007],\n",
              "       [0.06907714],\n",
              "       [0.05428836],\n",
              "       [0.04537255],\n",
              "       [0.0650239 ],\n",
              "       [0.03795898],\n",
              "       [0.08000142],\n",
              "       [0.13072075],\n",
              "       [0.11980161],\n",
              "       [0.06573289],\n",
              "       [0.07849176],\n",
              "       [0.15894262],\n",
              "       [0.07781338],\n",
              "       [0.12918441],\n",
              "       [0.02521782],\n",
              "       [0.1357991 ],\n",
              "       [0.18171022],\n",
              "       [0.07368327],\n",
              "       [0.03465213],\n",
              "       [0.15654852],\n",
              "       [0.15352305],\n",
              "       [0.0314116 ],\n",
              "       [0.02909022],\n",
              "       [0.19486768],\n",
              "       [0.15831996],\n",
              "       [0.11268903],\n",
              "       [0.03278421],\n",
              "       [0.04582062],\n",
              "       [0.14207496],\n",
              "       [0.04786541],\n",
              "       [0.03747505],\n",
              "       [0.15327815],\n",
              "       [0.04157349],\n",
              "       [0.02811237],\n",
              "       [0.18644101],\n",
              "       [0.03916211],\n",
              "       [0.10714249],\n",
              "       [0.09560296],\n",
              "       [0.12182143],\n",
              "       [0.0308483 ],\n",
              "       [0.0418432 ],\n",
              "       [0.05510092],\n",
              "       [0.1298392 ],\n",
              "       [0.02849305],\n",
              "       [0.03861761],\n",
              "       [0.02936841],\n",
              "       [0.17540895],\n",
              "       [0.04098597],\n",
              "       [0.04159677],\n",
              "       [0.03688506],\n",
              "       [0.04179561],\n",
              "       [0.02634356],\n",
              "       [0.11674128]])"
            ]
          },
          "metadata": {
            "tags": []
          },
          "execution_count": 401
        }
      ]
    },
    {
      "cell_type": "code",
      "metadata": {
        "id": "wAW9ZEAFdRJV",
        "colab_type": "code",
        "colab": {
          "base_uri": "https://localhost:8080/",
          "height": 1000
        },
        "outputId": "e7cbbe53-9f5d-4bd9-8602-2a8e051d841e"
      },
      "source": [
        "#print(alphas)\n"
      ],
      "execution_count": 402,
      "outputs": [
        {
          "output_type": "stream",
          "text": [
            "[[-1.16776949]\n",
            " [-1.4898294 ]\n",
            " [ 2.22392464]\n",
            " [-0.53828602]\n",
            " [-2.6740472 ]\n",
            " [-5.24738589]\n",
            " [ 0.87488423]\n",
            " [ 0.68005617]\n",
            " [-0.98697112]\n",
            " [-4.23928253]\n",
            " [-2.41369214]\n",
            " [ 2.18603105]\n",
            " [ 1.84822537]\n",
            " [ 0.91136613]\n",
            " [-5.36768415]\n",
            " [-5.37303527]\n",
            " [-3.32670169]\n",
            " [ 1.9374217 ]\n",
            " [ 2.07089487]\n",
            " [-0.03650496]\n",
            " [ 0.69160114]\n",
            " [-3.71432259]\n",
            " [ 0.78079167]\n",
            " [-3.89575451]\n",
            " [-1.32415402]\n",
            " [ 2.218802  ]\n",
            " [ 1.67167662]\n",
            " [-0.72225901]\n",
            " [-0.17477022]\n",
            " [ 0.83485372]\n",
            " [-4.66463305]\n",
            " [-3.1249961 ]\n",
            " [ 2.02076425]\n",
            " [ 0.77197968]\n",
            " [-2.3413044 ]\n",
            " [-4.28550648]\n",
            " [ 2.20708123]\n",
            " [-3.84039812]\n",
            " [ 2.2233399 ]\n",
            " [ 2.11102338]\n",
            " [-2.07623212]\n",
            " [-2.67389326]\n",
            " [ 0.87534055]\n",
            " [-4.19870741]\n",
            " [ 1.6298816 ]\n",
            " [-2.1913638 ]\n",
            " [-4.03584793]\n",
            " [ 1.32458926]\n",
            " [-5.83589041]\n",
            " [ 1.43417455]\n",
            " [ 2.02319821]\n",
            " [-4.72687659]\n",
            " [-3.86534571]\n",
            " [-0.89490763]\n",
            " [ 0.82082191]\n",
            " [ 1.97178864]\n",
            " [-1.99095789]\n",
            " [-0.6413371 ]\n",
            " [ 1.1635323 ]\n",
            " [-1.09137906]\n",
            " [ 2.21101133]\n",
            " [-4.168719  ]\n",
            " [-1.8815338 ]\n",
            " [ 0.34572484]\n",
            " [-2.62243492]\n",
            " [-4.04863595]\n",
            " [-0.42822483]\n",
            " [-4.72308488]\n",
            " [-4.94622511]\n",
            " [-0.49557063]\n",
            " [-3.54003787]\n",
            " [ 1.99286401]\n",
            " [-4.35049418]\n",
            " [ 1.740288  ]\n",
            " [ 1.61098338]\n",
            " [ 0.02668881]\n",
            " [-1.10098207]\n",
            " [-0.12002765]\n",
            " [-4.38971643]\n",
            " [-2.00074127]\n",
            " [ 1.16392472]\n",
            " [-5.31818204]\n",
            " [ 1.80820369]\n",
            " [-4.8867939 ]\n",
            " [ 2.04366343]\n",
            " [-0.62992324]\n",
            " [-1.76531846]\n",
            " [ 2.01498449]\n",
            " [ 0.72944826]\n",
            " [-4.24748435]\n",
            " [-1.73822277]\n",
            " [-4.18334022]\n",
            " [ 2.14475677]\n",
            " [ 1.13028575]\n",
            " [-3.24853989]\n",
            " [-1.54528665]\n",
            " [ 1.87765122]\n",
            " [ 1.53912316]\n",
            " [ 0.06532172]\n",
            " [ 1.39510208]\n",
            " [-1.25067386]\n",
            " [-2.69646474]\n",
            " [-2.78777385]\n",
            " [ 1.03823281]\n",
            " [-3.27670162]\n",
            " [-0.92246981]\n",
            " [-1.89460905]\n",
            " [-0.68939115]\n",
            " [-2.01109361]\n",
            " [ 0.85500736]\n",
            " [-0.39549331]\n",
            " [-0.45062849]\n",
            " [-1.93692267]\n",
            " [-2.41480123]\n",
            " [-1.73684403]\n",
            " [ 2.14269823]\n",
            " [ 2.21728292]\n",
            " [ 0.4954389 ]\n",
            " [-0.66888604]\n",
            " [ 1.71531209]\n",
            " [ 2.41009357]\n",
            " [ 2.40001443]\n",
            " [-1.74252588]\n",
            " [ 1.552767  ]\n",
            " [-2.92347519]\n",
            " [ 0.20682854]\n",
            " [-0.64442837]\n",
            " [-0.27914989]\n",
            " [ 0.5244456 ]\n",
            " [-2.12654127]\n",
            " [ 1.75283828]\n",
            " [-0.45021362]\n",
            " [-3.25765939]\n",
            " [-0.16111271]\n",
            " [-0.72286154]\n",
            " [-1.35554663]\n",
            " [-0.07987853]\n",
            " [ 0.14532941]\n",
            " [ 0.84061122]\n",
            " [ 1.5500558 ]\n",
            " [ 1.74259399]\n",
            " [ 1.74776597]\n",
            " [-3.22881112]\n",
            " [ 2.16976752]\n",
            " [ 1.55383238]\n",
            " [-2.12884665]\n",
            " [-1.71246866]\n",
            " [-2.93554782]\n",
            " [-0.63910222]\n",
            " [-1.80724473]\n",
            " [-2.51239639]\n",
            " [-0.43218743]\n",
            " [-2.30841315]\n",
            " [ 0.13096461]\n",
            " [ 2.20521128]\n",
            " [ 1.96185512]\n",
            " [-0.89389406]\n",
            " [ 0.27929217]\n",
            " [ 1.73982919]\n",
            " [ 0.24735911]\n",
            " [ 2.1770135 ]\n",
            " [-3.2109553 ]\n",
            " [ 2.2849938 ]\n",
            " [ 2.22012158]\n",
            " [ 0.04407634]\n",
            " [-2.55746396]\n",
            " [ 1.74673142]\n",
            " [ 2.41408872]\n",
            " [-2.79584542]\n",
            " [-3.37814019]\n",
            " [ 1.99734348]\n",
            " [ 1.74183453]\n",
            " [ 1.40094729]\n",
            " [-3.27956132]\n",
            " [-1.71784759]\n",
            " [ 1.73850631]\n",
            " [-2.32076309]\n",
            " [-3.05040236]\n",
            " [ 1.7525508 ]\n",
            " [-2.78798871]\n",
            " [-3.02626861]\n",
            " [ 2.14836828]\n",
            " [-2.21731489]\n",
            " [ 1.5469727 ]\n",
            " [ 1.03478494]\n",
            " [ 1.55855754]\n",
            " [-2.83627837]\n",
            " [-2.76927373]\n",
            " [-1.74143492]\n",
            " [ 1.65591125]\n",
            " [-3.0005806 ]\n",
            " [-2.25854838]\n",
            " [-2.94052162]\n",
            " [ 1.63739481]\n",
            " [-2.07934737]\n",
            " [-2.78637929]\n",
            " [-3.08409531]\n",
            " [-2.01827475]\n",
            " [-3.14160937]\n",
            " [ 1.47733112]]\n"
          ],
          "name": "stdout"
        }
      ]
    },
    {
      "cell_type": "code",
      "metadata": {
        "id": "wuzt4WW_n5_l",
        "colab_type": "code",
        "colab": {
          "base_uri": "https://localhost:8080/",
          "height": 1000
        },
        "outputId": "00fc5c35-f2af-4297-80f7-145bd249b62f"
      },
      "source": [
        "#y"
      ],
      "execution_count": 403,
      "outputs": [
        {
          "output_type": "execute_result",
          "data": {
            "text/plain": [
              "[86.11704725161327,\n",
              " 86.54392754252189,\n",
              " 91.60092416458045,\n",
              " 88.24866974278879,\n",
              " 83.75744264687695,\n",
              " 78.81399741909985,\n",
              " 90.3555397502078,\n",
              " 88.88432622016374,\n",
              " 86.39024882178653,\n",
              " 80.99119997262102,\n",
              " 84.17960196031636,\n",
              " 91.43340898307706,\n",
              " 91.4740853296552,\n",
              " 90.40334464251185,\n",
              " 78.51289335632472,\n",
              " 78.49919727538376,\n",
              " 82.66009840471295,\n",
              " 90.90315829426959,\n",
              " 91.16261597739032,\n",
              " 89.05223196996609,\n",
              " 90.11002336062654,\n",
              " 81.97456293535964,\n",
              " 90.23059671262314,\n",
              " 80.43275412998011,\n",
              " 85.8795274647493,\n",
              " 91.5532153690721,\n",
              " 90.4388786988211,\n",
              " 86.7880341580567,\n",
              " 88.83693535098277,\n",
              " 90.30267176769145,\n",
              " 76.35033756030573,\n",
              " 82.83728118036382,\n",
              " 91.06159078346514,\n",
              " 90.21877585634633,\n",
              " 84.77082844403182,\n",
              " 78.81199704418815,\n",
              " 91.66486222209855,\n",
              " 80.63244266686908,\n",
              " 91.62027125717738,\n",
              " 91.24839838289186,\n",
              " 84.71631514163923,\n",
              " 83.99389935896008,\n",
              " 89.18055319967911,\n",
              " 79.21465150418295,\n",
              " 91.25924328716532,\n",
              " 85.10379344101732,\n",
              " 79.89918197360363,\n",
              " 89.87619807436826,\n",
              " 77.1813348818593,\n",
              " 91.04471872222119,\n",
              " 91.06637578240715,\n",
              " 75.57795553498649,\n",
              " 80.54315585905472,\n",
              " 87.63909367143403,\n",
              " 89.09758009669564,\n",
              " 91.57811803266128,\n",
              " 84.85029582810596,\n",
              " 86.90921252026163,\n",
              " 90.7234834164107,\n",
              " 86.23264980824896,\n",
              " 91.65991505447309,\n",
              " 79.34697612549924,\n",
              " 85.02134494714699,\n",
              " 88.38197541583283,\n",
              " 83.84174815006581,\n",
              " 81.3568227276602,\n",
              " 87.22764184791201,\n",
              " 75.63765718679005,\n",
              " 79.51973879971582,\n",
              " 88.31949174389536,\n",
              " 82.28646038180078,\n",
              " 91.59394734034633,\n",
              " 78.48768866686493,\n",
              " 91.37179123809665,\n",
              " 91.23930515256053,\n",
              " 89.14910352543319,\n",
              " 87.27133566058667,\n",
              " 88.92272703497626,\n",
              " 78.28034052097067,\n",
              " 85.51332238291693,\n",
              " 90.72396689632363,\n",
              " 78.63833374069524,\n",
              " 91.43718596259421,\n",
              " 79.65226137032366,\n",
              " 91.10705772289884,\n",
              " 88.09517821459637,\n",
              " 85.99963403995417,\n",
              " 91.60977707731786,\n",
              " 90.16143819764643,\n",
              " 78.99223883107706,\n",
              " 85.24397520588245,\n",
              " 79.28285651686022,\n",
              " 91.67676189931193,\n",
              " 90.68234868568899,\n",
              " 82.79494544268638,\n",
              " 85.54142875375207,\n",
              " 91.5003293765472,\n",
              " 91.16189593999427,\n",
              " 87.96329299338812,\n",
              " 90.99995447522085,\n",
              " 52.98735863396342,\n",
              " 49.888807422765765,\n",
              " 49.60363914003671,\n",
              " 57.834524091742736,\n",
              " 47.33938850392114,\n",
              " 53.51709297150737,\n",
              " 51.81680435761518,\n",
              " 53.874324053545564,\n",
              " 51.851109246128026,\n",
              " 57.51163264981575,\n",
              " 55.360728262331016,\n",
              " 55.260558826804484,\n",
              " 52.05144078645426,\n",
              " 50.6594915911357,\n",
              " 52.565269840603605,\n",
              " 60.347650241288946,\n",
              " 58.28054420704564,\n",
              " 55.5480553478559,\n",
              " 54.855132961616825,\n",
              " 57.2951678111874,\n",
              " 59.41655892238225,\n",
              " 59.00105582429382,\n",
              " 52.113297963202506,\n",
              " 58.90258482347285,\n",
              " 48.66329796958087,\n",
              " 56.411907821039236,\n",
              " 53.94172546853083,\n",
              " 54.47444747183523,\n",
              " 55.58758678513022,\n",
              " 51.52721095135509,\n",
              " 59.81283126823868,\n",
              " 55.261315707073706,\n",
              " 47.48274305810907,\n",
              " 55.7780113502826,\n",
              " 53.823851808538826,\n",
              " 52.81011299624029,\n",
              " 55.91984328656465,\n",
              " 56.30726711472786,\n",
              " 57.48672577711362,\n",
              " 57.034427498863806,\n",
              " 59.66372958964618,\n",
              " 60.047192373353404,\n",
              " 47.680731218343674,\n",
              " 60.29265156164893,\n",
              " 58.90543089472069,\n",
              " 51.52058267640374,\n",
              " 52.17020293800148,\n",
              " 48.60635734825126,\n",
              " 53.949679946828525,\n",
              " 51.98893182491669,\n",
              " 50.40790286223987,\n",
              " 55.29415596788567,\n",
              " 50.98272254058906,\n",
              " 55.048983767629025,\n",
              " 58.24919271388495,\n",
              " 57.72442759067509,\n",
              " 53.56165053578576,\n",
              " 56.534753322244335,\n",
              " 60.12735773605275,\n",
              " 56.48067083393555,\n",
              " 58.178815269680285,\n",
              " 47.076388183122155,\n",
              " 58.47476082399073,\n",
              " 60.18177844155332,\n",
              " 56.134008777793284,\n",
              " 50.152000263762645,\n",
              " 60.05979412541548,\n",
              " 59.19183641673288,\n",
              " 49.22968663295299,\n",
              " 46.11870737756886,\n",
              " 60.60623313979684,\n",
              " 60.10987993844253,\n",
              " 58.540396627810736,\n",
              " 47.31680407397843,\n",
              " 52.612221696101315,\n",
              " 59.62670128018687,\n",
              " 50.88947071407832,\n",
              " 48.62086284608853,\n",
              " 59.96583734989926,\n",
              " 49.602941737551035,\n",
              " 48.156108256704734,\n",
              " 60.33635786877931,\n",
              " 51.26110724939853,\n",
              " 57.029702509317175,\n",
              " 56.28770040499133,\n",
              " 58.918125741651735,\n",
              " 49.05678331364704,\n",
              " 49.66319614789584,\n",
              " 52.11537264632314,\n",
              " 59.21670647073705,\n",
              " 48.28787962052951,\n",
              " 51.13658345091715,\n",
              " 48.58270964576695,\n",
              " 60.56978363149644,\n",
              " 51.66148571432939,\n",
              " 49.60816245448309,\n",
              " 48.468305451183156,\n",
              " 51.83140320343718,\n",
              " 47.51350499820431,\n",
              " 58.713558008424386]"
            ]
          },
          "metadata": {
            "tags": []
          },
          "execution_count": 403
        }
      ]
    },
    {
      "cell_type": "code",
      "metadata": {
        "id": "927lplExqN9v",
        "colab_type": "code",
        "colab": {}
      },
      "source": [
        ""
      ],
      "execution_count": 0,
      "outputs": []
    }
  ]
}