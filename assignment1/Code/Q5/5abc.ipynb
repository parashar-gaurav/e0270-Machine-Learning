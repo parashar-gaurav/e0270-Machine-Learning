{
  "nbformat": 4,
  "nbformat_minor": 0,
  "metadata": {
    "colab": {
      "name": "Untitled",
      "provenance": [],
      "collapsed_sections": [],
      "toc_visible": true
    },
    "kernelspec": {
      "name": "python3",
      "display_name": "Python 3"
    }
  },
  "cells": [
    {
      "cell_type": "markdown",
      "metadata": {
        "id": "4I2KaBD6l6Ue",
        "colab_type": "text"
      },
      "source": [
        "##5(a)"
      ]
    },
    {
      "cell_type": "code",
      "metadata": {
        "id": "zw0qvXdHl89u",
        "colab_type": "code",
        "colab": {}
      },
      "source": [
        "import numpy as np\n",
        "import random\n",
        "import matplotlib.pyplot as plt"
      ],
      "execution_count": 0,
      "outputs": []
    },
    {
      "cell_type": "code",
      "metadata": {
        "id": "AIieW0AzmAqk",
        "colab_type": "code",
        "colab": {}
      },
      "source": [
        "def sampler1():\n",
        "  return np.random.uniform(-1,1)\n",
        "\n",
        "def sampler2():\n",
        "  if (random.choice((0,1))):\n",
        "    return np.random.uniform(-3,-2)\n",
        "  else:\n",
        "    return np.random.uniform(2,3)"
      ],
      "execution_count": 0,
      "outputs": []
    },
    {
      "cell_type": "code",
      "metadata": {
        "id": "Cuu6IsQYma3q",
        "colab_type": "code",
        "colab": {}
      },
      "source": [
        "n = 100\n",
        "x1_x = []\n",
        "x1_y = []\n",
        "x2_x = []\n",
        "x2_y = []\n",
        "for i in range(n):\n",
        "  x1_x.append(sampler1())\n",
        "  x1_y.append(x1_x[i]**2)\n",
        "  x2_x.append(sampler2())\n",
        "  x2_y.append(x2_x[i]**2)\n",
        "\n",
        "samp_y = [0]*100"
      ],
      "execution_count": 0,
      "outputs": []
    },
    {
      "cell_type": "code",
      "metadata": {
        "id": "UGPZvLfknI5W",
        "colab_type": "code",
        "outputId": "477cdc70-4cb3-4882-c1a1-11fea4351f88",
        "colab": {
          "base_uri": "https://localhost:8080/",
          "height": 279
        }
      },
      "source": [
        "plt.scatter(x1_x,samp_y,color='red',label='class 1 ~ unif[-1,1]')\n",
        "plt.scatter(x2_x,samp_y,color='blue',label='class 2 ~ (unif[-3,-2] U unif[2,3])')\n",
        "plt.xlabel('x : sampled points')\n",
        "plt.legend()\n",
        "plt.savefig('5a.png')\n"
      ],
      "execution_count": 14,
      "outputs": [
        {
          "output_type": "display_data",
          "data": {
            "image/png": "[encoded data removed]",
            "text/plain": [
              "<Figure size 432x288 with 1 Axes>"
            ]
          },
          "metadata": {
            "tags": [],
            "needs_background": "light"
          }
        }
      ]
    },
    {
      "cell_type": "markdown",
      "metadata": {
        "id": "Xg04ZAMElHUi",
        "colab_type": "text"
      },
      "source": [
        "##Part b"
      ]
    },
    {
      "cell_type": "code",
      "metadata": {
        "id": "4zIZ6kAhlKLL",
        "colab_type": "code",
        "colab": {
          "base_uri": "https://localhost:8080/",
          "height": 279
        },
        "outputId": "fba0e0c9-1c59-42d0-ca6f-5d69af70ce01"
      },
      "source": [
        "plt.scatter(x1_x,x1_y,color='red',label='class 1 ~ unif[-1,1]')\n",
        "plt.scatter(x2_x,x2_y,color='blue',label='class 2 ~ (unif[-3,-2] U unif[2,3])')\n",
        "plt.xlabel('x : sampled points')\n",
        "plt.ylabel('x^2')\n",
        "plt.legend()\n",
        "plt.savefig('5b.png')"
      ],
      "execution_count": 15,
      "outputs": [
        {
          "output_type": "display_data",
          "data": {
            "image/png": "[encoded data removed]",
            "text/plain": [
              "<Figure size 432x288 with 1 Axes>"
            ]
          },
          "metadata": {
            "tags": [],
            "needs_background": "light"
          }
        }
      ]
    },
    {
      "cell_type": "markdown",
      "metadata": {
        "id": "cav--LfHnYgP",
        "colab_type": "text"
      },
      "source": [
        "##Part c"
      ]
    },
    {
      "cell_type": "code",
      "metadata": {
        "id": "pueGfQoHnWk4",
        "colab_type": "code",
        "colab": {}
      },
      "source": [
        "m1_x = np.mean(np.array(x1_x))\n",
        "m1_y = np.mean(np.array(x1_y))\n",
        "m2_x = np.mean(np.array(x2_x))\n",
        "m2_y = np.mean(np.array(x2_y))"
      ],
      "execution_count": 0,
      "outputs": []
    },
    {
      "cell_type": "code",
      "metadata": {
        "id": "Zr0Ud7SsoDoq",
        "colab_type": "code",
        "outputId": "78418674-a407-4a81-ecbb-a6c92d456331",
        "colab": {
          "base_uri": "https://localhost:8080/",
          "height": 52
        }
      },
      "source": [
        "print(m1_x,m1_y)\n",
        "print(m2_x,m2_y)"
      ],
      "execution_count": 17,
      "outputs": [
        {
          "output_type": "stream",
          "text": [
            "0.024682487053652877 0.3596882240383143\n",
            "0.3162894881489434 6.378651063431673\n"
          ],
          "name": "stdout"
        }
      ]
    },
    {
      "cell_type": "code",
      "metadata": {
        "id": "4DTL9EvyoEi0",
        "colab_type": "code",
        "colab": {}
      },
      "source": [
        "m1 = np.array([[m1_x],[m1_y]])\n",
        "m2 = np.array([[m2_x],[m2_y]])\n",
        "#calculating Sw\n",
        "\n",
        "Sw1 = np.zeros((2,2),dtype=float)\n",
        "Sw2 = np.zeros((2,2),dtype=float)\n",
        "\n",
        "for i in range(n):\n",
        "  x = np.array([[x1_x[i]],[x1_y[i]]])\n",
        "  Sw1 = Sw1 + np.matmul((x-m1),(x-m1).T)\n",
        "for i in range(n):\n",
        "  x = np.array([[x2_x[i]],[x2_y[i]]])\n",
        "  Sw2 = Sw2 + np.matmul((x-m2),(x-m2).T)"
      ],
      "execution_count": 0,
      "outputs": []
    },
    {
      "cell_type": "code",
      "metadata": {
        "id": "qtl3zumxqbwn",
        "colab_type": "code",
        "colab": {}
      },
      "source": [
        "Sw = Sw1 + Sw2"
      ],
      "execution_count": 0,
      "outputs": []
    },
    {
      "cell_type": "code",
      "metadata": {
        "id": "1Ox5YdcZqkFK",
        "colab_type": "code",
        "outputId": "b0f1f027-7aae-4c61-e3b8-79796ecd0d24",
        "colab": {
          "base_uri": "https://localhost:8080/",
          "height": 52
        }
      },
      "source": [
        "Sw  "
      ],
      "execution_count": 20,
      "outputs": [
        {
          "output_type": "execute_result",
          "data": {
            "text/plain": [
              "array([[663.7691022 ,  28.29529368],\n",
              "       [ 28.29529368, 239.79700036]])"
            ]
          },
          "metadata": {
            "tags": []
          },
          "execution_count": 20
        }
      ]
    },
    {
      "cell_type": "code",
      "metadata": {
        "id": "u3z-Fa1Cr-x2",
        "colab_type": "code",
        "colab": {}
      },
      "source": [
        "w = np.matmul(np.linalg.inv(Sw),(m1-m2))"
      ],
      "execution_count": 0,
      "outputs": []
    },
    {
      "cell_type": "code",
      "metadata": {
        "id": "KKdF6HddsOV5",
        "colab_type": "code",
        "outputId": "a53d9322-8c42-4272-a5ee-ab3999d6fb38",
        "colab": {
          "base_uri": "https://localhost:8080/",
          "height": 34
        }
      },
      "source": [
        "w[1][0]"
      ],
      "execution_count": 22,
      "outputs": [
        {
          "output_type": "execute_result",
          "data": {
            "text/plain": [
              "-0.025175034360607727"
            ]
          },
          "metadata": {
            "tags": []
          },
          "execution_count": 22
        }
      ]
    },
    {
      "cell_type": "markdown",
      "metadata": {
        "id": "55cXrHYAsRY3",
        "colab_type": "text"
      },
      "source": [
        ""
      ]
    },
    {
      "cell_type": "code",
      "metadata": {
        "id": "8l20BKVLsPP2",
        "colab_type": "code",
        "colab": {}
      },
      "source": [
        "#x_plot = np.linspace(-3,3,1000)\n",
        "y_plot1 = []\n",
        "for i in range(100):\n",
        "  ar = np.array([[x1_x[i]],[x1_y[i]]])\n",
        "  res = np.matmul(w.T,ar)\n",
        "  y_plot1.append(res)\n",
        "y_plot2 = []\n",
        "for i in range(100):\n",
        "  ar = np.array([[x2_x[i]],[x2_y[i]]])\n",
        "  res = np.matmul(w.T,ar)\n",
        "  y_plot2.append(res)"
      ],
      "execution_count": 0,
      "outputs": []
    },
    {
      "cell_type": "code",
      "metadata": {
        "id": "ulikB-YSsfuJ",
        "colab_type": "code",
        "outputId": "8d7cdd3c-614b-4f4a-d974-c0d7d53917f2",
        "colab": {
          "base_uri": "https://localhost:8080/",
          "height": 1000
        }
      },
      "source": [
        "\n",
        "y_plotf1 = []\n",
        "y_plotf2 = []\n",
        "for i in range(100):\n",
        "  y_plotf1.append(float(y_plot1[i][0]))\n",
        "  y_plotf2.append(float(y_plot2[i][0]))\n",
        "y_plotf2"
      ],
      "execution_count": 24,
      "outputs": [
        {
          "output_type": "execute_result",
          "data": {
            "text/plain": [
              "[-0.1975983308542036,\n",
              " -0.15928959191155173,\n",
              " -0.10626146273777903,\n",
              " -0.12703048068272815,\n",
              " -0.21845702056421817,\n",
              " -0.1293290345075133,\n",
              " -0.19701630301164572,\n",
              " -0.20022719976790224,\n",
              " -0.16680808193176105,\n",
              " -0.10673226109613236,\n",
              " -0.18985681851866357,\n",
              " -0.17199697569788547,\n",
              " -0.19399354725429338,\n",
              " -0.12453857858177375,\n",
              " -0.2061388802714486,\n",
              " -0.21273879389815298,\n",
              " -0.1302835300988625,\n",
              " -0.16145666532538624,\n",
              " -0.15902264736593918,\n",
              " -0.19887898098213797,\n",
              " -0.12181461939739532,\n",
              " -0.12307343478577537,\n",
              " -0.18933184411299342,\n",
              " -0.11696601773356088,\n",
              " -0.10492727346227741,\n",
              " -0.10844662967563622,\n",
              " -0.11432982959946807,\n",
              " -0.13616664042738993,\n",
              " -0.13505973003975352,\n",
              " -0.10414296856693486,\n",
              " -0.14532640110570377,\n",
              " -0.18781433604464645,\n",
              " -0.18918608557751188,\n",
              " -0.11625472725302492,\n",
              " -0.14139798359249328,\n",
              " -0.17246301915545004,\n",
              " -0.2095273212566205,\n",
              " -0.1481929547004195,\n",
              " -0.12415260893031282,\n",
              " -0.1263979281162067,\n",
              " -0.14289739267597842,\n",
              " -0.17806660236851937,\n",
              " -0.19102570997542062,\n",
              " -0.1799259693540594,\n",
              " -0.2040492989194976,\n",
              " -0.17093555146931652,\n",
              " -0.17954744887457222,\n",
              " -0.12281820679462116,\n",
              " -0.12905438616572631,\n",
              " -0.11305362017779337,\n",
              " -0.15824575306689811,\n",
              " -0.19840866349772335,\n",
              " -0.10375728335415989,\n",
              " -0.20447534715556873,\n",
              " -0.18903345968898427,\n",
              " -0.1965972065937473,\n",
              " -0.1806365627813813,\n",
              " -0.1519176503981076,\n",
              " -0.22109125956719422,\n",
              " -0.130620034315005,\n",
              " -0.21439440869312304,\n",
              " -0.10772958271263286,\n",
              " -0.21204903601977046,\n",
              " -0.21704320252573273,\n",
              " -0.11140146469305107,\n",
              " -0.1912301951892562,\n",
              " -0.13015314021286684,\n",
              " -0.10279120026758808,\n",
              " -0.17813908276355492,\n",
              " -0.1234406827697283,\n",
              " -0.22307269644313663,\n",
              " -0.2213531679442669,\n",
              " -0.14893957891897489,\n",
              " -0.20696988023201818,\n",
              " -0.18387280519635726,\n",
              " -0.11462891320811286,\n",
              " -0.10261542751465176,\n",
              " -0.18924800855773427,\n",
              " -0.18909787790810795,\n",
              " -0.17917331891750485,\n",
              " -0.10629910186521296,\n",
              " -0.19097202955403686,\n",
              " -0.1556674529872848,\n",
              " -0.1793236738722381,\n",
              " -0.19596579739141629,\n",
              " -0.1055840058360561,\n",
              " -0.2039765612755584,\n",
              " -0.18621338766541057,\n",
              " -0.10744010647951857,\n",
              " -0.11018579955766822,\n",
              " -0.16564707189380895,\n",
              " -0.22048110822235756,\n",
              " -0.13133857822543932,\n",
              " -0.11087200180249504,\n",
              " -0.13509250637274464,\n",
              " -0.19291338786398704,\n",
              " -0.21937379537743576,\n",
              " -0.17041887061068625,\n",
              " -0.11593815946636653,\n",
              " -0.1683960455890563]"
            ]
          },
          "metadata": {
            "tags": []
          },
          "execution_count": 24
        }
      ]
    },
    {
      "cell_type": "code",
      "metadata": {
        "id": "NcyggRemvOy4",
        "colab_type": "code",
        "outputId": "1e63fde2-b3d0-4e18-a03e-8dc5e1d545f9",
        "colab": {
          "base_uri": "https://localhost:8080/",
          "height": 279
        }
      },
      "source": [
        "p1_x = -3\n",
        "p1_y = 0\n",
        "p2_x = 3\n",
        "p2_y = (w[0][0]/w[1][0])*3\n",
        "\n",
        "point1 = [-250*w[0][0],-250*w[1][0]]\n",
        "point2 = [250*w[0][0],250*w[1][0]]\n",
        "xval = [point1[0],point2[0]]\n",
        "yval = [point1[1],point2[1]]\n",
        "plt.plot(xval,yval,color='green',label='direction of w')\n",
        "\n",
        "\n",
        "#plt.scatter(x1_x,y_plotf1,color='green')\n",
        "#plt.scatter(x2_x,y_plotf2,color='green')\n",
        "plt.scatter(x1_x,x1_y,color='red',label='class 1 ~ unif[-1,1]')\n",
        "plt.scatter(x2_x,x2_y,color='blue',label='class 2 ~ (unif[-3,-2] U unif[2,3])')\n",
        "plt.xlabel('x: sampled points')\n",
        "plt.ylabel('x^2')\n",
        "plt.legend()\n",
        "plt.savefig('5c.png')"
      ],
      "execution_count": 32,
      "outputs": [
        {
          "output_type": "display_data",
          "data": {
            "image/png": "[encoded data removed]",
            "text/plain": [
              "<Figure size 432x288 with 1 Axes>"
            ]
          },
          "metadata": {
            "tags": [],
            "needs_background": "light"
          }
        }
      ]
    },
    {
      "cell_type": "code",
      "metadata": {
        "id": "bCr69Axpvch8",
        "colab_type": "code",
        "outputId": "242589a1-c0ec-40c1-c3ab-8b4f6f506e3e",
        "colab": {
          "base_uri": "https://localhost:8080/",
          "height": 52
        }
      },
      "source": [
        "w"
      ],
      "execution_count": 33,
      "outputs": [
        {
          "output_type": "execute_result",
          "data": {
            "text/plain": [
              "array([[ 0.00063385],\n",
              "       [-0.02517503]])"
            ]
          },
          "metadata": {
            "tags": []
          },
          "execution_count": 33
        }
      ]
    },
    {
      "cell_type": "code",
      "metadata": {
        "id": "ZN9HK_n2mcpM",
        "colab_type": "code",
        "colab": {}
      },
      "source": [
        ""
      ],
      "execution_count": 0,
      "outputs": []
    },
    {
      "cell_type": "markdown",
      "metadata": {
        "id": "9p0UQepqmg8f",
        "colab_type": "text"
      },
      "source": [
        "##Part (d)\n",
        "refer to 2nd notebook"
      ]
    },
    {
      "cell_type": "code",
      "metadata": {
        "id": "hO7qsGe2mgA2",
        "colab_type": "code",
        "colab": {}
      },
      "source": [
        ""
      ],
      "execution_count": 0,
      "outputs": []
    }
  ]
}